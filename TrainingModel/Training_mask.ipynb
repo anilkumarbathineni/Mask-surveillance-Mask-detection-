{
  "nbformat": 4,
  "nbformat_minor": 0,
  "metadata": {
    "colab": {
      "name": "Training_mask.ipynb",
      "provenance": [],
      "collapsed_sections": []
    },
    "kernelspec": {
      "name": "python3",
      "display_name": "Python 3"
    },
    "accelerator": "GPU"
  },
  "cells": [
    {
      "cell_type": "code",
      "metadata": {
        "id": "7JSZkN-3KAcC",
        "colab_type": "code",
        "colab": {}
      },
      "source": [
        "from tensorflow.keras.preprocessing.image import ImageDataGenerator\n",
        "from tensorflow.keras.applications import VGG16,MobileNetV2\n",
        "from tensorflow.keras.layers import AveragePooling2D\n",
        "from tensorflow.keras.layers import Dropout\n",
        "from tensorflow.keras.layers import Flatten\n",
        "from tensorflow.keras.layers import Dense\n",
        "from tensorflow.keras.layers import Input\n",
        "from tensorflow.keras.models import Model\n",
        "from tensorflow.keras.optimizers import Adam\n",
        "from tensorflow.keras.utils import to_categorical\n",
        "from sklearn.preprocessing import LabelBinarizer\n",
        "from sklearn.model_selection import train_test_split\n",
        "from imutils import paths\n",
        "import matplotlib.pyplot as plt\n",
        "import numpy as np\n",
        "import argparse\n",
        "import cv2\n",
        "import os"
      ],
      "execution_count": 0,
      "outputs": []
    },
    {
      "cell_type": "code",
      "metadata": {
        "id": "gSIZAOp_sVVF",
        "colab_type": "code",
        "outputId": "9af9b70d-09eb-4d72-c306-34122ee55b0b",
        "colab": {
          "base_uri": "https://localhost:8080/",
          "height": 34
        }
      },
      "source": [
        "import tensorflow as tf\n",
        "tf.__version__"
      ],
      "execution_count": 3,
      "outputs": [
        {
          "output_type": "execute_result",
          "data": {
            "text/plain": [
              "'2.2.0'"
            ]
          },
          "metadata": {
            "tags": []
          },
          "execution_count": 3
        }
      ]
    },
    {
      "cell_type": "code",
      "metadata": {
        "id": "ixp7F77YKLFZ",
        "colab_type": "code",
        "colab": {}
      },
      "source": [
        "from skimage import io"
      ],
      "execution_count": 0,
      "outputs": []
    },
    {
      "cell_type": "code",
      "metadata": {
        "id": "OfyJXuLnOgyJ",
        "colab_type": "code",
        "outputId": "2c053cca-47bf-4d44-fe7e-5223c240086e",
        "colab": {
          "base_uri": "https://localhost:8080/",
          "height": 34
        }
      },
      "source": [
        "from google.colab import drive\n",
        "drive.mount('/content/drive')"
      ],
      "execution_count": 5,
      "outputs": [
        {
          "output_type": "stream",
          "text": [
            "Drive already mounted at /content/drive; to attempt to forcibly remount, call drive.mount(\"/content/drive\", force_remount=True).\n"
          ],
          "name": "stdout"
        }
      ]
    },
    {
      "cell_type": "code",
      "metadata": {
        "id": "Z_yXr3nSOuYu",
        "colab_type": "code",
        "outputId": "3c932962-aa4f-4099-e221-b676fd4a3253",
        "colab": {
          "base_uri": "https://localhost:8080/",
          "height": 34
        }
      },
      "source": [
        "ls 'drive/My Drive/facemask'"
      ],
      "execution_count": 6,
      "outputs": [
        {
          "output_type": "stream",
          "text": [
            "\u001b[0m\u001b[01;34mwithmask\u001b[0m/  \u001b[01;34mwithoutmask\u001b[0m/\n"
          ],
          "name": "stdout"
        }
      ]
    },
    {
      "cell_type": "code",
      "metadata": {
        "id": "KNRWWOu8O5Lv",
        "colab_type": "code",
        "colab": {}
      },
      "source": [
        "# initial learning rate, number of epochs to train for and batch size\n",
        "INIT_LR = 1e-3\n",
        "EPOCHS = 40\n",
        "BS = 8\n",
        "# taking list of images in our directory\n",
        "\n",
        "imagePaths = list(paths.list_images('drive/My Drive/facemask'))\n",
        "data = []\n",
        "labels = []"
      ],
      "execution_count": 0,
      "outputs": []
    },
    {
      "cell_type": "code",
      "metadata": {
        "id": "rFHGIwyHPf_Y",
        "colab_type": "code",
        "colab": {}
      },
      "source": [
        "# loop over the image paths\n",
        "for imagePath in imagePaths:\n",
        "\t# extract the class label from the filename\n",
        "\tlabel = imagePath.split(os.path.sep)[-2]\n",
        "\n",
        "\t# Reading the images\n",
        "\timage = io.imread(imagePath)\n",
        "\t# swapping the colour channels\n",
        "\timage = cv2.cvtColor(image, cv2.COLOR_BGR2RGB)\n",
        "  # Resizing the image to 224, 224\n",
        "\timage = cv2.resize(image, (224, 224))\n",
        "\n",
        "\t# update the data and labels lists, respectively\n",
        "\tdata.append(image)\n",
        "\tlabels.append(label)\n"
      ],
      "execution_count": 0,
      "outputs": []
    },
    {
      "cell_type": "code",
      "metadata": {
        "id": "ypVQ_eOZPkfA",
        "colab_type": "code",
        "colab": {}
      },
      "source": [
        "# convert the data and labels to NumPy arrays while scaling the pixel \n",
        "data = np.array(data) / 255.0\n",
        "labels = np.array(labels)\n",
        "\n",
        "# perform one-hot encoding on the labels\n",
        "lb = LabelBinarizer()\n",
        "labels = lb.fit_transform(labels)\n",
        "labels = to_categorical(labels)\n",
        "\n",
        "# Training and text data split\n",
        "\n",
        "(trainX, testX, trainY, testY) = train_test_split(data, labels,\n",
        "\ttest_size=0.20, stratify=labels, random_state=42)"
      ],
      "execution_count": 0,
      "outputs": []
    },
    {
      "cell_type": "code",
      "metadata": {
        "id": "WcmWZhdXUD1c",
        "colab_type": "code",
        "colab": {}
      },
      "source": [
        "# Data augmentation to have a varaince in the data\n",
        "trainAug = ImageDataGenerator(\n",
        "\trotation_range=20,\n",
        "  width_shift_range=0.2,\n",
        "    height_shift_range=0.2,\n",
        "    shear_range=0.2,\n",
        "    zoom_range=0.1,\n",
        "\tfill_mode=\"nearest\")"
      ],
      "execution_count": 0,
      "outputs": []
    },
    {
      "cell_type": "code",
      "metadata": {
        "id": "S4QpLGhOUwNU",
        "colab_type": "code",
        "outputId": "6bb35465-7189-4b25-b37d-7a4f2212e45c",
        "colab": {
          "base_uri": "https://localhost:8080/",
          "height": 52
        }
      },
      "source": [
        "## Using VGG16 architecture and imagenet weights\n",
        "baseModel = VGG16(weights=\"imagenet\", include_top=False,\n",
        "\tinput_tensor=Input(shape=(224, 224, 3)))"
      ],
      "execution_count": 11,
      "outputs": [
        {
          "output_type": "stream",
          "text": [
            "Downloading data from https://storage.googleapis.com/tensorflow/keras-applications/vgg16/vgg16_weights_tf_dim_ordering_tf_kernels_notop.h5\n",
            "58892288/58889256 [==============================] - 0s 0us/step\n"
          ],
          "name": "stdout"
        }
      ]
    },
    {
      "cell_type": "code",
      "metadata": {
        "id": "ZQwHaXpxU3Zu",
        "colab_type": "code",
        "colab": {}
      },
      "source": [
        "## Head mdel\n",
        "headModel = baseModel.output\n",
        "headModel = AveragePooling2D(pool_size=(4, 4))(headModel)\n",
        "headModel = Flatten(name=\"flatten\")(headModel)\n",
        "headModel = Dense(128, activation=\"relu\")(headModel)\n",
        "headModel = Dropout(0.5)(headModel)\n",
        "headModel = Dense(2, activation=\"softmax\")(headModel)\n",
        "\n",
        "## Head and base model\n",
        "model = Model(inputs=baseModel.input, outputs=headModel)\n",
        "for layer in baseModel.layers:\n",
        "\tlayer.trainable = False"
      ],
      "execution_count": 0,
      "outputs": []
    },
    {
      "cell_type": "code",
      "metadata": {
        "id": "-whUqMioVKKn",
        "colab_type": "code",
        "outputId": "e2529559-3057-4657-8dde-1351cd949b89",
        "colab": {
          "base_uri": "https://localhost:8080/",
          "height": 1000
        }
      },
      "source": [
        "# compile our model\n",
        "opt = Adam(lr=INIT_LR, decay=INIT_LR / EPOCHS)\n",
        "model.compile(loss=\"categorical_crossentropy\", optimizer=opt,\n",
        "\tmetrics=[\"accuracy\"])\n",
        "\n",
        "# training head network\n",
        "H = model.fit_generator(\n",
        "\ttrainAug.flow(trainX, trainY, batch_size=BS),\n",
        "\tsteps_per_epoch=len(trainX) // BS,\n",
        "\tvalidation_data=(testX, testY),\n",
        "\tvalidation_steps=len(testX) // BS,\n",
        "\tepochs=EPOCHS)\n"
      ],
      "execution_count": 13,
      "outputs": [
        {
          "output_type": "stream",
          "text": [
            "WARNING:tensorflow:From <ipython-input-13-c5e40bc9a49c>:12: Model.fit_generator (from tensorflow.python.keras.engine.training) is deprecated and will be removed in a future version.\n",
            "Instructions for updating:\n",
            "Please use Model.fit, which supports generators.\n",
            "Epoch 1/40\n",
            "25/25 [==============================] - 7s 275ms/step - loss: 0.6222 - accuracy: 0.6250 - val_loss: 0.3301 - val_accuracy: 0.9804\n",
            "Epoch 2/40\n",
            "25/25 [==============================] - 4s 164ms/step - loss: 0.3430 - accuracy: 0.8950 - val_loss: 0.1996 - val_accuracy: 0.9804\n",
            "Epoch 3/40\n",
            "25/25 [==============================] - 4s 163ms/step - loss: 0.2286 - accuracy: 0.9450 - val_loss: 0.1406 - val_accuracy: 0.9804\n",
            "Epoch 4/40\n",
            "25/25 [==============================] - 4s 164ms/step - loss: 0.1639 - accuracy: 0.9700 - val_loss: 0.1135 - val_accuracy: 0.9608\n",
            "Epoch 5/40\n",
            "25/25 [==============================] - 4s 164ms/step - loss: 0.1462 - accuracy: 0.9650 - val_loss: 0.1171 - val_accuracy: 0.9412\n",
            "Epoch 6/40\n",
            "25/25 [==============================] - 4s 164ms/step - loss: 0.1154 - accuracy: 0.9700 - val_loss: 0.1200 - val_accuracy: 0.9412\n",
            "Epoch 7/40\n",
            "25/25 [==============================] - 4s 163ms/step - loss: 0.0771 - accuracy: 0.9850 - val_loss: 0.0690 - val_accuracy: 0.9804\n",
            "Epoch 8/40\n",
            "25/25 [==============================] - 4s 163ms/step - loss: 0.0794 - accuracy: 0.9800 - val_loss: 0.0728 - val_accuracy: 0.9608\n",
            "Epoch 9/40\n",
            "25/25 [==============================] - 4s 165ms/step - loss: 0.0781 - accuracy: 0.9750 - val_loss: 0.0704 - val_accuracy: 0.9608\n",
            "Epoch 10/40\n",
            "25/25 [==============================] - 4s 164ms/step - loss: 0.1010 - accuracy: 0.9600 - val_loss: 0.0472 - val_accuracy: 1.0000\n",
            "Epoch 11/40\n",
            "25/25 [==============================] - 4s 163ms/step - loss: 0.0874 - accuracy: 0.9900 - val_loss: 0.0705 - val_accuracy: 0.9608\n",
            "Epoch 12/40\n",
            "25/25 [==============================] - 4s 163ms/step - loss: 0.0511 - accuracy: 0.9850 - val_loss: 0.0571 - val_accuracy: 0.9804\n",
            "Epoch 13/40\n",
            "25/25 [==============================] - 4s 163ms/step - loss: 0.0446 - accuracy: 0.9900 - val_loss: 0.0929 - val_accuracy: 0.9412\n",
            "Epoch 14/40\n",
            "25/25 [==============================] - 4s 163ms/step - loss: 0.0577 - accuracy: 0.9850 - val_loss: 0.0333 - val_accuracy: 1.0000\n",
            "Epoch 15/40\n",
            "25/25 [==============================] - 4s 162ms/step - loss: 0.0505 - accuracy: 0.9850 - val_loss: 0.0537 - val_accuracy: 0.9804\n",
            "Epoch 16/40\n",
            "25/25 [==============================] - 4s 165ms/step - loss: 0.0569 - accuracy: 0.9700 - val_loss: 0.0304 - val_accuracy: 1.0000\n",
            "Epoch 17/40\n",
            "25/25 [==============================] - 4s 162ms/step - loss: 0.0687 - accuracy: 0.9800 - val_loss: 0.0271 - val_accuracy: 1.0000\n",
            "Epoch 18/40\n",
            "25/25 [==============================] - 4s 163ms/step - loss: 0.0333 - accuracy: 0.9950 - val_loss: 0.0567 - val_accuracy: 0.9804\n",
            "Epoch 19/40\n",
            "25/25 [==============================] - 4s 162ms/step - loss: 0.0368 - accuracy: 0.9850 - val_loss: 0.0335 - val_accuracy: 0.9804\n",
            "Epoch 20/40\n",
            "25/25 [==============================] - 4s 163ms/step - loss: 0.0342 - accuracy: 0.9900 - val_loss: 0.0695 - val_accuracy: 0.9804\n",
            "Epoch 21/40\n",
            "25/25 [==============================] - 4s 162ms/step - loss: 0.0291 - accuracy: 0.9950 - val_loss: 0.0439 - val_accuracy: 0.9804\n",
            "Epoch 22/40\n",
            "25/25 [==============================] - 4s 161ms/step - loss: 0.0324 - accuracy: 0.9900 - val_loss: 0.0615 - val_accuracy: 0.9804\n",
            "Epoch 23/40\n",
            "25/25 [==============================] - 4s 163ms/step - loss: 0.0142 - accuracy: 1.0000 - val_loss: 0.0231 - val_accuracy: 1.0000\n",
            "Epoch 24/40\n",
            "25/25 [==============================] - 4s 162ms/step - loss: 0.0425 - accuracy: 0.9800 - val_loss: 0.0447 - val_accuracy: 0.9804\n",
            "Epoch 25/40\n",
            "25/25 [==============================] - 4s 162ms/step - loss: 0.0376 - accuracy: 0.9850 - val_loss: 0.0293 - val_accuracy: 0.9804\n",
            "Epoch 26/40\n",
            "25/25 [==============================] - 4s 164ms/step - loss: 0.0179 - accuracy: 0.9950 - val_loss: 0.0226 - val_accuracy: 1.0000\n",
            "Epoch 27/40\n",
            "25/25 [==============================] - 4s 165ms/step - loss: 0.0234 - accuracy: 0.9900 - val_loss: 0.0233 - val_accuracy: 0.9804\n",
            "Epoch 28/40\n",
            "25/25 [==============================] - 4s 163ms/step - loss: 0.0342 - accuracy: 0.9850 - val_loss: 0.0185 - val_accuracy: 1.0000\n",
            "Epoch 29/40\n",
            "25/25 [==============================] - 4s 163ms/step - loss: 0.0243 - accuracy: 0.9950 - val_loss: 0.0404 - val_accuracy: 0.9804\n",
            "Epoch 30/40\n",
            "25/25 [==============================] - 4s 163ms/step - loss: 0.0319 - accuracy: 0.9850 - val_loss: 0.0181 - val_accuracy: 1.0000\n",
            "Epoch 31/40\n",
            "25/25 [==============================] - 4s 163ms/step - loss: 0.0125 - accuracy: 1.0000 - val_loss: 0.0465 - val_accuracy: 0.9804\n",
            "Epoch 32/40\n",
            "25/25 [==============================] - 4s 162ms/step - loss: 0.0298 - accuracy: 0.9900 - val_loss: 0.0233 - val_accuracy: 0.9804\n",
            "Epoch 33/40\n",
            "25/25 [==============================] - 4s 163ms/step - loss: 0.0234 - accuracy: 0.9950 - val_loss: 0.0521 - val_accuracy: 0.9804\n",
            "Epoch 34/40\n",
            "25/25 [==============================] - 4s 163ms/step - loss: 0.0196 - accuracy: 0.9950 - val_loss: 0.0333 - val_accuracy: 0.9804\n",
            "Epoch 35/40\n",
            "25/25 [==============================] - 4s 163ms/step - loss: 0.0181 - accuracy: 1.0000 - val_loss: 0.0649 - val_accuracy: 0.9804\n",
            "Epoch 36/40\n",
            "25/25 [==============================] - 4s 162ms/step - loss: 0.0134 - accuracy: 1.0000 - val_loss: 0.0677 - val_accuracy: 0.9804\n",
            "Epoch 37/40\n",
            "25/25 [==============================] - 4s 163ms/step - loss: 0.0286 - accuracy: 0.9900 - val_loss: 0.0161 - val_accuracy: 1.0000\n",
            "Epoch 38/40\n",
            "25/25 [==============================] - 4s 162ms/step - loss: 0.0171 - accuracy: 1.0000 - val_loss: 0.0243 - val_accuracy: 0.9804\n",
            "Epoch 39/40\n",
            "25/25 [==============================] - 4s 162ms/step - loss: 0.0228 - accuracy: 0.9950 - val_loss: 0.0640 - val_accuracy: 0.9804\n",
            "Epoch 40/40\n",
            "25/25 [==============================] - 4s 163ms/step - loss: 0.0194 - accuracy: 1.0000 - val_loss: 0.0154 - val_accuracy: 1.0000\n"
          ],
          "name": "stdout"
        }
      ]
    },
    {
      "cell_type": "code",
      "metadata": {
        "id": "98zERGehXuyx",
        "colab_type": "code",
        "colab": {}
      },
      "source": [
        "model.save('drive/My Drive/mask_model.h5') "
      ],
      "execution_count": 0,
      "outputs": []
    },
    {
      "cell_type": "code",
      "metadata": {
        "id": "U1yPv65LIxbL",
        "colab_type": "code",
        "colab": {}
      },
      "source": [
        ""
      ],
      "execution_count": 0,
      "outputs": []
    }
  ]
}